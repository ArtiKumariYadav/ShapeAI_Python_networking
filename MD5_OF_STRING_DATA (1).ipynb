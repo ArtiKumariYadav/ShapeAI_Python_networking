{
  "nbformat": 4,
  "nbformat_minor": 0,
  "metadata": {
    "colab": {
      "name": "MD5 OF STRING DATA.ipynb",
      "provenance": []
    },
    "kernelspec": {
      "name": "python3",
      "display_name": "Python 3"
    },
    "language_info": {
      "name": "python"
    }
  },
  "cells": [
    {
      "cell_type": "code",
      "metadata": {
        "colab": {
          "base_uri": "https://localhost:8080/"
        },
        "id": "g4e6DGKZC9Vp",
        "outputId": "183af25e-ab6e-4838-ec8d-88175441b56d"
      },
      "source": [
        "import hashlib\n",
        "print(hashlib.md5('ArtiKumariYadav'.encode(\"UTF-8\")).hexdigest())"
      ],
      "execution_count": 3,
      "outputs": [
        {
          "output_type": "stream",
          "text": [
            "5a42a661a9f0d033dc1af536f2f0a86b\n"
          ],
          "name": "stdout"
        }
      ]
    }
  ]
}